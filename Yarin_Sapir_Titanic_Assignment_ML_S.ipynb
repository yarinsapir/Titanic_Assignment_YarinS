{
 "cells": [
  {
   "cell_type": "markdown",
   "id": "ccfe2c09",
   "metadata": {},
   "source": [
    "# Supervised Learning Flow – Titanic Survival Prediction  \n",
    "\n",
    "**Students:** Yarin S. (ID: 8635)\n",
    "             Shahaf L. (ID: 8284)\n",
    "\n",
    "### Introduction\n",
    "In this assignment we worked on a complete supervised learning flow using the Titanic dataset.\n",
    "Our goal was to build a model that predicts whether a passenger survived (1) or not (0).\n",
    "\n",
    "### Tools and Assistance Used\n",
    "While preparing this assignment we reviewed some online resources.\n",
    "We also used ChatGPT as a study aid – it helped us understand how cross-validation works,\n",
    "how to evaluate models with the F1 score, and the importance of comparing algorithms such as Logistic Regression and Decision Tree.\n",
    "\n",
    "some prompts we used:\n",
    "When should I prefer F1 over Accuracy on imbalanced data, and why?\n",
    "\n",
    "Why use solver=\"liblinear\" for Logistic Regression, and what’s the difference between L1 vs L2 penalties?\n",
    "\n",
    "Best practices for 5-fold StratifiedKFold with reproducibility (e.g., shuffle=True, fixed random_state).\n",
    "\n",
    "Trade-offs and sensible ranges for Decision Tree hyperparameters (max_depth, min_samples_split) and LR C.\n",
    "\n",
    "Which EDA plots are most informative for Titanic (Sex, Pclass, Age bins) and what trends should I expect?"
   ]
  },
  {
   "cell_type": "code",
   "execution_count": 12,
   "id": "5714b0c0",
   "metadata": {},
   "outputs": [],
   "source": [
    "import pandas as pd\n",
    "import seaborn as sns\n",
    "import numpy as np\n",
    "import matplotlib.pyplot as plt\n",
    "from sklearn.linear_model import LogisticRegression\n",
    "from sklearn.pipeline import Pipeline\n",
    "from sklearn.compose import ColumnTransformer\n",
    "from sklearn.preprocessing import StandardScaler\n",
    "from sklearn.model_selection import cross_val_score\n",
    "from sklearn.metrics import make_scorer, f1_score\n",
    "from sklearn.model_selection import StratifiedKFold, GridSearchCV\n",
    "from sklearn.metrics import f1_score, make_scorer\n",
    "from sklearn.tree import DecisionTreeClassifier\n"
   ]
  },
  {
   "cell_type": "markdown",
   "id": "56dd31ce",
   "metadata": {},
   "source": [
    "## 1. Data Loading and Initial Exploration"
   ]
  },
  {
   "cell_type": "code",
   "execution_count": 13,
   "id": "f8aec6c0",
   "metadata": {},
   "outputs": [
    {
     "data": {
      "text/html": [
       "<div>\n",
       "<style scoped>\n",
       "    .dataframe tbody tr th:only-of-type {\n",
       "        vertical-align: middle;\n",
       "    }\n",
       "\n",
       "    .dataframe tbody tr th {\n",
       "        vertical-align: top;\n",
       "    }\n",
       "\n",
       "    .dataframe thead th {\n",
       "        text-align: right;\n",
       "    }\n",
       "</style>\n",
       "<table border=\"1\" class=\"dataframe\">\n",
       "  <thead>\n",
       "    <tr style=\"text-align: right;\">\n",
       "      <th></th>\n",
       "      <th>Pclass</th>\n",
       "      <th>Sex</th>\n",
       "      <th>Age</th>\n",
       "      <th>SibSp</th>\n",
       "      <th>Parch</th>\n",
       "      <th>Fare</th>\n",
       "      <th>Embarked</th>\n",
       "      <th>Survived</th>\n",
       "    </tr>\n",
       "  </thead>\n",
       "  <tbody>\n",
       "    <tr>\n",
       "      <th>0</th>\n",
       "      <td>1</td>\n",
       "      <td>0</td>\n",
       "      <td>54.0</td>\n",
       "      <td>1</td>\n",
       "      <td>0</td>\n",
       "      <td>78.2667</td>\n",
       "      <td>1</td>\n",
       "      <td>1</td>\n",
       "    </tr>\n",
       "    <tr>\n",
       "      <th>1</th>\n",
       "      <td>2</td>\n",
       "      <td>0</td>\n",
       "      <td>45.0</td>\n",
       "      <td>0</td>\n",
       "      <td>0</td>\n",
       "      <td>13.5000</td>\n",
       "      <td>0</td>\n",
       "      <td>1</td>\n",
       "    </tr>\n",
       "    <tr>\n",
       "      <th>2</th>\n",
       "      <td>3</td>\n",
       "      <td>1</td>\n",
       "      <td>20.0</td>\n",
       "      <td>0</td>\n",
       "      <td>0</td>\n",
       "      <td>9.5000</td>\n",
       "      <td>0</td>\n",
       "      <td>0</td>\n",
       "    </tr>\n",
       "    <tr>\n",
       "      <th>3</th>\n",
       "      <td>3</td>\n",
       "      <td>1</td>\n",
       "      <td>36.0</td>\n",
       "      <td>0</td>\n",
       "      <td>0</td>\n",
       "      <td>7.8958</td>\n",
       "      <td>0</td>\n",
       "      <td>0</td>\n",
       "    </tr>\n",
       "    <tr>\n",
       "      <th>4</th>\n",
       "      <td>3</td>\n",
       "      <td>1</td>\n",
       "      <td>22.0</td>\n",
       "      <td>0</td>\n",
       "      <td>0</td>\n",
       "      <td>8.0500</td>\n",
       "      <td>0</td>\n",
       "      <td>0</td>\n",
       "    </tr>\n",
       "  </tbody>\n",
       "</table>\n",
       "</div>"
      ],
      "text/plain": [
       "   Pclass  Sex   Age  SibSp  Parch     Fare  Embarked  Survived\n",
       "0       1    0  54.0      1      0  78.2667         1         1\n",
       "1       2    0  45.0      0      0  13.5000         0         1\n",
       "2       3    1  20.0      0      0   9.5000         0         0\n",
       "3       3    1  36.0      0      0   7.8958         0         0\n",
       "4       3    1  22.0      0      0   8.0500         0         0"
      ]
     },
     "metadata": {},
     "output_type": "display_data"
    },
    {
     "data": {
      "text/html": [
       "<div>\n",
       "<style scoped>\n",
       "    .dataframe tbody tr th:only-of-type {\n",
       "        vertical-align: middle;\n",
       "    }\n",
       "\n",
       "    .dataframe tbody tr th {\n",
       "        vertical-align: top;\n",
       "    }\n",
       "\n",
       "    .dataframe thead th {\n",
       "        text-align: right;\n",
       "    }\n",
       "</style>\n",
       "<table border=\"1\" class=\"dataframe\">\n",
       "  <thead>\n",
       "    <tr style=\"text-align: right;\">\n",
       "      <th></th>\n",
       "      <th>Pclass</th>\n",
       "      <th>Sex</th>\n",
       "      <th>Age</th>\n",
       "      <th>SibSp</th>\n",
       "      <th>Parch</th>\n",
       "      <th>Fare</th>\n",
       "      <th>Embarked</th>\n",
       "      <th>Survived</th>\n",
       "    </tr>\n",
       "  </thead>\n",
       "  <tbody>\n",
       "    <tr>\n",
       "      <th>0</th>\n",
       "      <td>3</td>\n",
       "      <td>1</td>\n",
       "      <td>35.000000</td>\n",
       "      <td>0</td>\n",
       "      <td>0</td>\n",
       "      <td>7.0500</td>\n",
       "      <td>0</td>\n",
       "      <td>0</td>\n",
       "    </tr>\n",
       "    <tr>\n",
       "      <th>1</th>\n",
       "      <td>3</td>\n",
       "      <td>1</td>\n",
       "      <td>30.000000</td>\n",
       "      <td>0</td>\n",
       "      <td>0</td>\n",
       "      <td>7.2500</td>\n",
       "      <td>0</td>\n",
       "      <td>0</td>\n",
       "    </tr>\n",
       "    <tr>\n",
       "      <th>2</th>\n",
       "      <td>3</td>\n",
       "      <td>1</td>\n",
       "      <td>29.699118</td>\n",
       "      <td>0</td>\n",
       "      <td>0</td>\n",
       "      <td>14.5000</td>\n",
       "      <td>0</td>\n",
       "      <td>0</td>\n",
       "    </tr>\n",
       "    <tr>\n",
       "      <th>3</th>\n",
       "      <td>3</td>\n",
       "      <td>0</td>\n",
       "      <td>21.000000</td>\n",
       "      <td>0</td>\n",
       "      <td>0</td>\n",
       "      <td>7.7500</td>\n",
       "      <td>2</td>\n",
       "      <td>0</td>\n",
       "    </tr>\n",
       "    <tr>\n",
       "      <th>4</th>\n",
       "      <td>3</td>\n",
       "      <td>1</td>\n",
       "      <td>32.000000</td>\n",
       "      <td>0</td>\n",
       "      <td>0</td>\n",
       "      <td>56.4958</td>\n",
       "      <td>0</td>\n",
       "      <td>1</td>\n",
       "    </tr>\n",
       "  </tbody>\n",
       "</table>\n",
       "</div>"
      ],
      "text/plain": [
       "   Pclass  Sex        Age  SibSp  Parch     Fare  Embarked  Survived\n",
       "0       3    1  35.000000      0      0   7.0500         0         0\n",
       "1       3    1  30.000000      0      0   7.2500         0         0\n",
       "2       3    1  29.699118      0      0  14.5000         0         0\n",
       "3       3    0  21.000000      0      0   7.7500         2         0\n",
       "4       3    1  32.000000      0      0  56.4958         0         1"
      ]
     },
     "metadata": {},
     "output_type": "display_data"
    }
   ],
   "source": [
    "# Load train and test data \n",
    "train_df = pd.read_csv(\"titanic_train.csv\")\n",
    "test_df = pd.read_csv(\"titanic_test.csv\")\n",
    "\n",
    "# Display first 5 rows\n",
    "display(train_df.head())\n",
    "display(test_df.head())\n"
   ]
  },
  {
   "cell_type": "markdown",
   "id": "12b579b5",
   "metadata": {},
   "source": [
    "## 2. Exploratory Data Analysis (EDA)"
   ]
  },
  {
   "cell_type": "code",
   "execution_count": 14,
   "id": "cb5bc013",
   "metadata": {},
   "outputs": [
    {
     "data": {
      "image/png": "[encoded data removed]",
      "text/plain": [
       "<Figure size 640x480 with 1 Axes>"
      ]
     },
     "metadata": {},
     "output_type": "display_data"
    }
   ],
   "source": [
    "# survival distribution\n",
    "sns.countplot(x=\"Survived\", data=train_df)\n",
    "plt.title(\"Survival Distribution\")\n",
    "plt.show()\n"
   ]
  },
  {
   "cell_type": "markdown",
   "id": "2e4dd1b8",
   "metadata": {},
   "source": [
    "*This plot shows the overall survival distribution – most passengers did not survive.*"
   ]
  },
  {
   "cell_type": "code",
   "execution_count": 15,
   "id": "29491864",
   "metadata": {},
   "outputs": [
    {
     "data": {
      "image/png": "[encoded data removed]",
      "text/plain": [
       "<Figure size 640x480 with 1 Axes>"
      ]
     },
     "metadata": {},
     "output_type": "display_data"
    }
   ],
   "source": [
    "# Survival by Age \n",
    "df_age = train_df[['Age', 'Survived']].dropna().copy()\n",
    "\n",
    "bins = list(range(0, 81, 10))  # 0-9, 10-19, ... 70-79\n",
    "labels = [f\"{i}-{i+9}\" for i in bins[:-1]]\n",
    "df_age['AgeBin'] = pd.cut(df_age['Age'], bins=bins, labels=labels, right=False)\n",
    "\n",
    "age_grp = df_age.groupby('AgeBin', observed=False)['Survived'].mean()\n",
    "\n",
    "plt.figure()\n",
    "age_grp.plot(kind='bar')\n",
    "plt.title(\"Survival Rate by Age Group\")\n",
    "plt.xlabel(\"Age Group\")\n",
    "plt.ylabel(\"Survival Rate\")\n",
    "plt.ylim(0, 1)\n",
    "plt.xticks(rotation=0)\n",
    "plt.show()\n"
   ]
  },
  {
   "cell_type": "markdown",
   "id": "acaca937",
   "metadata": {},
   "source": [
    "*Survival is highest for children (0–9), roughly average through teens–30s, and declines after 50—lowest in the 70–79 bin.*"
   ]
  },
  {
   "cell_type": "code",
   "execution_count": 16,
   "id": "b4d6356e",
   "metadata": {},
   "outputs": [
    {
     "data": {
      "image/png": "[encoded data removed]",
      "text/plain": [
       "<Figure size 640x480 with 1 Axes>"
      ]
     },
     "metadata": {},
     "output_type": "display_data"
    }
   ],
   "source": [
    "# survival by sex\n",
    "sns.countplot(x=\"Sex\", hue=\"Survived\", data=train_df)\n",
    "plt.title(\"Survival by Sex\")\n",
    "plt.show()\n"
   ]
  },
  {
   "cell_type": "markdown",
   "id": "6a541177",
   "metadata": {},
   "source": [
    "*This plot shows survival by gender – women had a much higher survival rate than men.*"
   ]
  },
  {
   "cell_type": "code",
   "execution_count": 17,
   "id": "32878442",
   "metadata": {},
   "outputs": [
    {
     "data": {
      "image/png": "[encoded data removed]",
      "text/plain": [
       "<Figure size 640x480 with 1 Axes>"
      ]
     },
     "metadata": {},
     "output_type": "display_data"
    }
   ],
   "source": [
    "# survival by Pclass\n",
    "sns.countplot(x=\"Pclass\", hue=\"Survived\", data=train_df)\n",
    "plt.title(\"Survival by Passenger Class\")\n",
    "plt.show()\n"
   ]
  },
  {
   "cell_type": "markdown",
   "id": "a0c1e888",
   "metadata": {},
   "source": [
    "*This plot shows survival by passenger class – first class passengers survived more often than those in lower classes.*"
   ]
  },
  {
   "cell_type": "markdown",
   "id": "fc38163d",
   "metadata": {},
   "source": [
    "## 3. Feature Engineering and Preprocessing"
   ]
  },
  {
   "cell_type": "code",
   "execution_count": 18,
   "id": "cbff73f9",
   "metadata": {},
   "outputs": [
    {
     "name": "stdout",
     "output_type": "stream",
     "text": [
      "Train shape: (712, 11)\n",
      "Test shape: (179, 11)\n",
      "Feature matrix shape: (712, 10)\n",
      "Test matrix shape: (179, 10)\n",
      "Feature columns: ['Sex', 'Age', 'SibSp', 'Parch', 'Fare', 'Pclass_2', 'Pclass_3', 'Embarked_1', 'Embarked_2', 'Embarked_3']\n"
     ]
    }
   ],
   "source": [
    "# Feature Engineering: One-hot only for Pclass and Embarked (Sex already binary)\n",
    "train_df = pd.get_dummies(train_df, columns=[\"Pclass\", \"Embarked\"], drop_first=True)\n",
    "test_df = pd.get_dummies(test_df, columns=[\"Pclass\", \"Embarked\"], drop_first=True)\n",
    "\n",
    "print(\"Train shape:\", train_df.shape)\n",
    "print(\"Test shape:\", test_df.shape)\n",
    "\n",
    "# Build X, y and align test columns to train columns\n",
    "X = train_df.drop(\"Survived\", axis=1)\n",
    "y = train_df[\"Survived\"]\n",
    "X_test_final = test_df.reindex(columns=X.columns, fill_value=0)\n",
    "\n",
    "print(\"Feature matrix shape:\", X.shape)\n",
    "print(\"Test matrix shape:\", X_test_final.shape)\n",
    "print(\"Feature columns:\", list(X.columns))\n"
   ]
  },
  {
   "cell_type": "markdown",
   "id": "287df3f1",
   "metadata": {},
   "source": [
    "### 3a. Feature-Engineering Experiment: With vs. Without Standardization\n",
    "We compare Logistic Regression **with** and **without** `StandardScaler` on numeric features (`Age`, `SibSp`, `Parch`, `Fare`) using 5-fold CV and F1."
   ]
  },
  {
   "cell_type": "code",
   "execution_count": 19,
   "id": "1f3ce87c",
   "metadata": {},
   "outputs": [
    {
     "name": "stdout",
     "output_type": "stream",
     "text": [
      "Mean F1 (no standardization):        0.7335\n",
      "Mean F1 (with StandardScaler on num): 0.7342\n"
     ]
    }
   ],
   "source": [
    "numeric_cols = [c for c in [\"Age\",\"SibSp\",\"Parch\",\"Fare\"] if c in X.columns]\n",
    "\n",
    "# Baseline LR \n",
    "baseline_lr = LogisticRegression(max_iter=1000, solver=\"liblinear\", C=1.0)\n",
    "\n",
    "pipe_no_scale = Pipeline([(\"model\", baseline_lr)])\n",
    "ct = ColumnTransformer([(\"num\", StandardScaler(), numeric_cols)], remainder=\"passthrough\")\n",
    "pipe_scaled  = Pipeline([(\"ct\", ct), (\"model\", baseline_lr)])\n",
    "\n",
    "scores_no    = cross_val_score(pipe_no_scale, X, y, cv=5, scoring=make_scorer(f1_score), n_jobs=-1)\n",
    "scores_scale = cross_val_score(pipe_scaled,  X, y, cv=5, scoring=make_scorer(f1_score), n_jobs=-1)\n",
    "\n",
    "print(\"Mean F1 (no standardization):       \", round(scores_no.mean(), 4))\n",
    "print(\"Mean F1 (with StandardScaler on num):\", round(scores_scale.mean(), 4))\n"
   ]
  },
  {
   "cell_type": "markdown",
   "id": "59e57935",
   "metadata": {},
   "source": [
    "## 4. Model Training and Experiments"
   ]
  },
  {
   "cell_type": "code",
   "execution_count": 20,
   "id": "ef349c00",
   "metadata": {},
   "outputs": [
    {
     "name": "stdout",
     "output_type": "stream",
     "text": [
      "All experiment results (5-fold Stratified CV) — top 20:\n",
      "\n",
      "             Model                                                         params  Fold1 F1  Fold2 F1  Fold3 F1  Fold4 F1  Fold5 F1  Mean F1\n",
      "      DecisionTree     {'scaler': 'none', 'max_depth': 5, 'min_samples_split': 5}     0.755     0.713     0.807     0.642     0.747    0.733\n",
      "      DecisionTree      {'scaler': 'std', 'max_depth': 5, 'min_samples_split': 5}     0.755     0.713     0.807     0.642     0.747    0.733\n",
      "      DecisionTree     {'scaler': 'std', 'max_depth': 5, 'min_samples_split': 10}     0.755     0.713     0.807     0.642     0.747    0.733\n",
      "      DecisionTree    {'scaler': 'none', 'max_depth': 5, 'min_samples_split': 10}     0.755     0.713     0.807     0.642     0.747    0.733\n",
      "      DecisionTree     {'scaler': 'none', 'max_depth': 5, 'min_samples_split': 2}     0.755     0.713     0.796     0.667     0.733    0.733\n",
      "      DecisionTree      {'scaler': 'std', 'max_depth': 5, 'min_samples_split': 2}     0.755     0.713     0.796     0.667     0.733    0.733\n",
      "      DecisionTree  {'scaler': 'std', 'max_depth': None, 'min_samples_split': 10}     0.727     0.736     0.743     0.660     0.782    0.730\n",
      "      DecisionTree {'scaler': 'none', 'max_depth': None, 'min_samples_split': 10}     0.739     0.736     0.743     0.648     0.782    0.730\n",
      "LogisticRegression                   {'scaler': 'std', 'C': 0.1, 'penalty': 'l2'}     0.673     0.685     0.743     0.771     0.772    0.729\n",
      "LogisticRegression                     {'scaler': 'std', 'C': 1, 'penalty': 'l1'}     0.691     0.679     0.739     0.771     0.760    0.728\n",
      "LogisticRegression                    {'scaler': 'none', 'C': 1, 'penalty': 'l2'}     0.673     0.685     0.752     0.766     0.747    0.725\n",
      "LogisticRegression                     {'scaler': 'std', 'C': 1, 'penalty': 'l2'}     0.691     0.679     0.734     0.771     0.747    0.724\n",
      "LogisticRegression                   {'scaler': 'none', 'C': 10, 'penalty': 'l1'}     0.691     0.679     0.734     0.771     0.747    0.724\n",
      "LogisticRegression                    {'scaler': 'none', 'C': 1, 'penalty': 'l1'}     0.679     0.679     0.743     0.771     0.747    0.724\n",
      "LogisticRegression                   {'scaler': 'none', 'C': 10, 'penalty': 'l2'}     0.679     0.679     0.734     0.771     0.747    0.722\n",
      "LogisticRegression                    {'scaler': 'std', 'C': 10, 'penalty': 'l1'}     0.679     0.679     0.734     0.771     0.747    0.722\n",
      "LogisticRegression                    {'scaler': 'std', 'C': 10, 'penalty': 'l2'}     0.679     0.679     0.734     0.771     0.747    0.722\n",
      "      DecisionTree      {'scaler': 'std', 'max_depth': 3, 'min_samples_split': 5}     0.685     0.722     0.673     0.759     0.735    0.715\n",
      "      DecisionTree      {'scaler': 'std', 'max_depth': 3, 'min_samples_split': 2}     0.685     0.722     0.673     0.759     0.735    0.715\n",
      "      DecisionTree     {'scaler': 'none', 'max_depth': 3, 'min_samples_split': 5}     0.685     0.722     0.673     0.759     0.735    0.715\n",
      "\n",
      "Best configuration overall:\n",
      " Model                                           DecisionTree\n",
      "params     {'clf__max_depth': 5, 'clf__min_samples_split'...\n",
      "Mean F1                                             0.732856\n"
     ]
    }
   ],
   "source": [
    "\n",
    "# Cross-validation + metric\n",
    "cv = StratifiedKFold(n_splits=5, shuffle=True, random_state=42)    \n",
    "scorer = make_scorer(f1_score, pos_label=1)                        \n",
    "\n",
    "specs = [\n",
    "    (\"LogisticRegression\",\n",
    "     LogisticRegression(max_iter=1000, solver=\"liblinear\", random_state=42),\n",
    "     {\n",
    "         \"pre\": [StandardScaler(), \"passthrough\"],                \n",
    "         \"clf__C\": [0.1, 1, 10],                                 \n",
    "         \"clf__penalty\": [\"l1\", \"l2\"],                            \n",
    "     }),\n",
    "    (\"DecisionTree\",\n",
    "     DecisionTreeClassifier(random_state=42),\n",
    "     {\n",
    "         \"pre\": [StandardScaler(), \"passthrough\"],                \n",
    "         \"clf__max_depth\": [3, 5, None],                           \n",
    "         \"clf__min_samples_split\": [2, 5, 10],                   \n",
    "     }),\n",
    "]\n",
    "\n",
    "#Run grid-search per model and collect CV results\n",
    "frames = []\n",
    "for name, est, grid in specs:\n",
    "    # Pipeline: \n",
    "    pipe = Pipeline([(\"pre\", \"passthrough\"), (\"clf\", est)])\n",
    "\n",
    "    # Grid search over the pipeline parameters\n",
    "    gs = GridSearchCV(pipe, grid, cv=cv, scoring=scorer, n_jobs=-1, return_train_score=False)\n",
    "    gs.fit(X, y)\n",
    "\n",
    "    # Keep params, mean test score, and the 5 per-fold test scores\n",
    "    df = pd.DataFrame(gs.cv_results_)[[\"params\", \"mean_test_score\"] + [f\"split{i}_test_score\" for i in range(5)]]\n",
    "    df[\"Model\"] = name\n",
    "    frames.append(df)\n",
    "\n",
    "# Concatenate results from both models\n",
    "results_df = pd.concat(frames, ignore_index=True)\n",
    "\n",
    "fold_cols = [f\"Fold{i} F1\" for i in range(1, 6)]\n",
    "results_df.rename(\n",
    "    columns={\"mean_test_score\": \"Mean F1\", **{f\"split{i}_test_score\": fold_cols[i] for i in range(5)}},\n",
    "    inplace=True\n",
    ")\n",
    "\n",
    "# Sort by mean F1 (best first)\n",
    "results_sorted = results_df.sort_values(\"Mean F1\", ascending=False).reset_index(drop=True)\n",
    "\n",
    "def tidy_params(p: dict) -> dict:\n",
    "    \"\"\"Make params compact for printing:\n",
    "    - scaler: 'std' if StandardScaler, else 'none'\n",
    "    - drop the 'clf__' prefix from model hyperparameters\n",
    "    \"\"\"\n",
    "    p = p.copy()\n",
    "    scaler = \"std\" if isinstance(p.get(\"pre\", \"passthrough\"), StandardScaler) else \"none\"\n",
    "    clean = {\"scaler\": scaler}\n",
    "    clean.update({k.replace(\"clf__\", \"\"): v for k, v in p.items() if k.startswith(\"clf__\")})\n",
    "    return clean\n",
    "\n",
    "pretty = results_sorted.copy()\n",
    "pretty[fold_cols + [\"Mean F1\"]] = pretty[fold_cols + [\"Mean F1\"]].astype(float).round(3)\n",
    "pretty[\"params\"] = pretty[\"params\"].map(tidy_params)\n",
    "pretty = pretty[[\"Model\", \"params\"] + fold_cols + [\"Mean F1\"]]\n",
    "\n",
    "print(\"All experiment results (5-fold Stratified CV) — top 20:\\n\")\n",
    "print(pretty.head(20).to_string(index=False))\n",
    "\n",
    "\n",
    "best_overall = results_sorted.loc[0, [\"Model\", \"params\", \"Mean F1\"]]  # 'params' is RAW dict from GridSearch\n",
    "print(\"\\nBest configuration overall:\\n\", best_overall.to_string())\n",
    "\n",
    "\n",
    "pretty.to_csv(\"gridsearch_5fold_results.csv\", index=False)\n"
   ]
  },
  {
   "cell_type": "markdown",
   "id": "3ba6991a",
   "metadata": {},
   "source": [
    "## 5. Train Best Model"
   ]
  },
  {
   "cell_type": "code",
   "execution_count": 21,
   "id": "7fbad59c",
   "metadata": {},
   "outputs": [
    {
     "name": "stdout",
     "output_type": "stream",
     "text": [
      "\n",
      "Final model trained on full trainset.\n",
      "Model: DecisionTree\n",
      "Best hyperparameters: {'clf__max_depth': 5, 'clf__min_samples_split': 5, 'pre': 'passthrough'}\n"
     ]
    }
   ],
   "source": [
    "# 5. Train Best Model\n",
    "\n",
    "model_name = best_overall[\"Model\"]\n",
    "best_params = best_overall[\"params\"]   \n",
    "\n",
    "base = (LogisticRegression(max_iter=1000, solver=\"liblinear\", random_state=42)\n",
    "        if model_name == \"LogisticRegression\"\n",
    "        else DecisionTreeClassifier(random_state=42))\n",
    "\n",
    "final_model = Pipeline([(\"pre\", \"passthrough\"), (\"clf\", base)])\n",
    "final_model.set_params(**best_params) \n",
    "final_model.fit(X, y)\n",
    "\n",
    "print(\"\\nFinal model trained on full trainset.\")\n",
    "print(\"Model:\", model_name)\n",
    "print(\"Best hyperparameters:\", best_params)\n"
   ]
  },
  {
   "cell_type": "markdown",
   "id": "c3fa9e1c",
   "metadata": {},
   "source": [
    "## 6. Evaluation on Test Set"
   ]
  },
  {
   "cell_type": "code",
   "execution_count": 22,
   "id": "cc6b679f",
   "metadata": {},
   "outputs": [
    {
     "name": "stdout",
     "output_type": "stream",
     "text": [
      "Test F1: 0.7544\n",
      "First 5 predictions: [0 0 0 1 0]\n",
      "First 5 reality: [0 0 0 0 1]\n"
     ]
    },
    {
     "data": {
      "image/png": "[encoded data removed]",
      "text/plain": [
       "<Figure size 640x480 with 1 Axes>"
      ]
     },
     "metadata": {},
     "output_type": "display_data"
    },
    {
     "name": "stdout",
     "output_type": "stream",
     "text": [
      "Submission file saved: titanic_predictions_final.csv\n"
     ]
    }
   ],
   "source": [
    "# Predict on test set\n",
    "test_predictions = final_model.predict(X_test_final)\n",
    "\n",
    "from sklearn.metrics import f1_score\n",
    "Test_F1 = f1_score(test_df['Survived'], test_predictions)\n",
    "print(f'Test F1: {Test_F1:.4f}')\n",
    "\n",
    "# Preview (exactly two lines)\n",
    "print(\"First 5 predictions:\", np.array(test_predictions[:5]))\n",
    "print(\"First 5 reality:\", np.array(test_df[\"Survived\"].iloc[:5]))\n",
    "\n",
    "\n",
    "# Prediction distribution\n",
    "sns.countplot(x=test_predictions)\n",
    "plt.title(\"Prediction Distribution on Test Set\")\n",
    "plt.show()\n",
    "\n",
    "passenger_ids = np.arange(1, len(test_predictions)+1)\n",
    "passenger_ids = np.arange(1, len(test_predictions)+1)\n",
    "submission = pd.DataFrame({\"PassengerId\": passenger_ids, \"Survived\": test_predictions})\n",
    "submission.to_csv(\"titanic_predictions_final.csv\", index=False)\n",
    "print(\"Submission file saved: titanic_predictions_final.csv\")"
   ]
  }
 ],
 "metadata": {
  "kernelspec": {
   "display_name": "Python 3 (ipykernel)",
   "language": "python",
   "name": "python3"
  },
  "language_info": {
   "codemirror_mode": {
    "name": "ipython",
    "version": 3
   },
   "file_extension": ".py",
   "mimetype": "text/x-python",
   "name": "python",
   "nbconvert_exporter": "python",
   "pygments_lexer": "ipython3",
   "version": "3.13.5"
  }
 },
 "nbformat": 4,
 "nbformat_minor": 5
}
